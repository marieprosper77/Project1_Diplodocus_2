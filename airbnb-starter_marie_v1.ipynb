{
 "cells": [
  {
   "cell_type": "code",
   "execution_count": null,
   "id": "b08bca22",
   "metadata": {},
   "outputs": [],
   "source": [
    "%matplotlib inline\n",
    "import gmaps\n",
    "import json\n",
    "import requests\n",
    "import time\n",
    "\n",
    "\n",
    "import numpy as np # linear algebra\n",
    "import pandas as pd # data processing, CSV file I/O (e.g. pd.read_csv)\n",
    "from  citipy import citipy\n",
    "import matplotlib.pyplot as plt\n",
    "from scipy import stats\n",
    "\n",
    "import requests\n",
    "from census import Census\n",
    "import gmaps\n",
    "import seaborn as sns\n",
    "import scipy.stats as st\n",
    "import warnings\n",
    "import matplotlib.image as mpimg\n",
    "import matplotlib\n",
    "\n",
    "from sklearn.cluster import KMeans\n",
    "from sklearn.model_selection import train_test_split\n",
    "from sklearn.metrics import mean_squared_error\n",
    "#%matplotlib notebook\n",
    "from api_keys import g_key\n",
    "from api_keys import api_key\n",
    "from api_keys import weather_api_key\n",
    "\n",
    "lat_range = (-90, 90)\n",
    "lng_range = (-180, 180)\n",
    "lng_range = (-180, 180)"
   ]
  },
  {
   "cell_type": "code",
   "execution_count": null,
   "id": "f291494b",
   "metadata": {},
   "outputs": [],
   "source": [
    "import os\n",
    "for dirname, _, filenames in os.walk('/kaggle/input'):\n",
    "    for filename in filenames:\n",
    "        print(os.path.join(dirname, filename))"
   ]
  },
  {
   "cell_type": "code",
   "execution_count": null,
   "id": "8cd2a75f",
   "metadata": {},
   "outputs": [],
   "source": [
    "abnb_data = pd.read_csv(\"Resources/airbnb_data.csv\")"
   ]
  },
  {
   "cell_type": "code",
   "execution_count": null,
   "id": "c95372f6",
   "metadata": {},
   "outputs": [],
   "source": [
    "\n",
    "import os\n",
    "for dirname, _, filenames in os.walk('/kaggle/input'):\n",
    "    for filename in filenames:\n",
    "        print(os.path.join(dirname, filename))"
   ]
  },
  {
   "cell_type": "code",
   "execution_count": null,
   "id": "98c15757",
   "metadata": {},
   "outputs": [],
   "source": [
    "abnb2 = abnb_data.drop(['neighbourhood_group', 'id', 'host_id', 'host_name', 'calculated_host_listings_count', 'last_review'], axis=1)\n",
    "abnb2_df = abnb2.drop(abnb2[abnb2['room_type'] == 'Private room'].index)\n",
    "\n",
    "abnb2_df['city'] = abnb2_df['city'].replace({'Broward County':'Fort Lauderdale','Clark County':'Las Vegas','New York City':'New York','San Clara Country':'San Jose','San Mateo County':'San Mateo','Santa Cruz County':'Santa Cruz','Twin Cities MSA':'Twin Cities','Washington D.C.':'Washington'})\n",
    "abnb_df = abnb2_df.drop(abnb2_df[(abnb2_df['city'] == 'Hawaii') | (abnb2_df['city'] == 'Rhode Island') | (abnb2_df['city'] == 'Twin Cities')].index)\n",
    "\n",
    "abnb_df = abnb_df[['city', 'name', 'neighbourhood', 'latitude', 'longitude', 'room_type', 'price', 'minimum_nights', 'number_of_reviews', 'reviews_per_month', 'availability_365']]\n",
    "abnb_df.rename(columns={'city': 'City', 'name': 'Property Name', 'neighbourhood': 'Neighborhood', 'latitude': 'Latitude', 'longitude': 'Longitude', 'room_type': 'Room Type', 'price': 'Price', 'minimum_nights': 'Minimum Nights', 'number_of_reviews': 'Number of Reviews', 'reviews_per_month': 'Reviews per Month', 'availability_365': 'Availability (days per year)'}, inplace=True)\n",
    "\n",
    "abnb_df"
   ]
  },
  {
   "cell_type": "code",
   "execution_count": null,
   "id": "3f7b0119",
   "metadata": {},
   "outputs": [],
   "source": [
    "Cities = []\n",
    "for city in abnb_df['City']:\n",
    "    if city not in Cities:\n",
    "        Cities.append(city)"
   ]
  },
  {
   "cell_type": "code",
   "execution_count": null,
   "id": "971f30ee",
   "metadata": {},
   "outputs": [],
   "source": [
    "cities = [city.lower() for city in Cities]"
   ]
  },
  {
   "cell_type": "code",
   "execution_count": null,
   "id": "c430b50a",
   "metadata": {},
   "outputs": [],
   "source": [
    "states = ['NC', 'TX', 'MA', 'FL', 'MA', 'IL', 'NV', 'OH', 'CO', 'NJ', 'CA', 'TN', 'LA', 'NY', 'CA', 'CA', 'OR', 'OR', 'CA', 'CA', 'CA', 'CA', 'CA', 'WA', 'DC']"
   ]
  },
  {
   "cell_type": "code",
   "execution_count": null,
   "id": "e0d69bf5",
   "metadata": {},
   "outputs": [],
   "source": [
    "loop_df = pd.DataFrame({\n",
    "    'city': cities,\n",
    "    'City': Cities,\n",
    "    'State': states\n",
    "})\n",
    "\n",
    "loop_df['Population'] = ''"
   ]
  },
  {
   "cell_type": "code",
   "execution_count": null,
   "id": "a2abb748",
   "metadata": {},
   "outputs": [],
   "source": [
    "for index, row in loop_df.iterrows():\n",
    "    city = row[\"city\"]\n",
    "    City = row[\"City\"]\n",
    "    state = row[\"State\"]\n",
    "    url = f'http://public.opendatasoft.com/api/records/1.0/search/?dataset=cities-and-towns-of-the-united-states%40public&q={city}&facet=name&facet=state&refine.name={City}&refine.state={state}'\n",
    "    response = requests.get(url).json()\n",
    "    print(f\"Searching population record for {city}\")\n",
    "    \n",
    "    try:\n",
    "        loop_df.loc[index, \"Population\"] = response['records'][0]['fields']['pop_2010']\n",
    "    \n",
    "        print(f\"{city}'s population: {response['records'][0]['fields']['pop_2010']}\")\n",
    "    \n",
    "        print('________________________________________________')\n",
    "    \n",
    "    except (KeyError, IndexError):\n",
    "        print(f\"Population for {city} not found... Continue scanning.\")\n",
    "        \n",
    "        print('________________________________________________')"
   ]
  },
  {
   "cell_type": "code",
   "execution_count": null,
   "id": "0ee753e3",
   "metadata": {},
   "outputs": [],
   "source": [
    "graphs_draft_df = abnb_df.groupby('City').mean().reset_index()\n",
    "graphs_draft_df['Population'] = loop_df['Population']\n",
    "graphs_draft_df['State'] = loop_df['State']\n",
    "graphs_df = graphs_draft_df[['City', 'State', 'Population', 'Latitude', 'Longitude', 'Price', 'Minimum Nights', 'Number of Reviews', 'Reviews per Month', 'Availability (days per year)']]\n",
    "graphs_df['Population'] = pd.to_numeric(graphs_df['Population'], errors='coerce')\n",
    "\n",
    "graphs_df"
   ]
  },
  {
   "cell_type": "code",
   "execution_count": null,
   "id": "0d1051e4",
   "metadata": {},
   "outputs": [],
   "source": [
    "# 'sort by population\n",
    "sort_Population_graphs_df = graphs_df.sort_values(by='Population', ascending=False)\n",
    "sort_Population_graphs_df.head()"
   ]
  },
  {
   "cell_type": "code",
   "execution_count": null,
   "id": "e800cc84",
   "metadata": {},
   "outputs": [],
   "source": [
    "# Average prices for each type of listing\n",
    "\n",
    "avgPrice_DF=abnb2_df.groupby('room_type').price.mean()\n",
    "avgPrice_DF=abnb2_df.reset_index()\n",
    "avgPrice_DF=abnb2_df.rename(columns={'price':'average_Price'})\n",
    "avgPrice_DF"
   ]
  },
  {
   "cell_type": "code",
   "execution_count": null,
   "id": "26b0ef30",
   "metadata": {},
   "outputs": [],
   "source": [
    "\n",
    "#Number of Review sorted by population as it related to price\n",
    "sns.jointplot(data=sort_Population_graphs_df, x='Number of Reviews', y='Price')"
   ]
  },
  {
   "cell_type": "code",
   "execution_count": null,
   "id": "c37dbbb0",
   "metadata": {},
   "outputs": [],
   "source": [
    "sns.jointplot(data=abnb_df, x='Price', y='City')"
   ]
  },
  {
   "cell_type": "code",
   "execution_count": null,
   "id": "8535009a",
   "metadata": {},
   "outputs": [],
   "source": [
    "sns.jointplot(data=abnb_df, x='Neighborhood', y='Price')"
   ]
  },
  {
   "cell_type": "code",
   "execution_count": null,
   "id": "439fbdf1",
   "metadata": {},
   "outputs": [],
   "source": [
    "plt.style.use('fivethirtyeight')\n",
    "plt.figure(figsize=(13,7))\n",
    "plt.title(\"Neighbourhood Group\")\n",
    "x = plt.pie(graphs_df.City.value_counts(), labels=graphs_df.City.value_counts().index,autopct= '%1.1f%%', startangle=180)\n",
    "\n",
    "plt.show()"
   ]
  }
 ],
 "metadata": {
  "kernelspec": {
   "display_name": "Python 3",
   "language": "python",
   "name": "python3"
  },
  "language_info": {
   "codemirror_mode": {
    "name": "ipython",
    "version": 3
   },
   "file_extension": ".py",
   "mimetype": "text/x-python",
   "name": "python",
   "nbconvert_exporter": "python",
   "pygments_lexer": "ipython3",
   "version": "3.8.8"
  }
 },
 "nbformat": 4,
 "nbformat_minor": 5
}
